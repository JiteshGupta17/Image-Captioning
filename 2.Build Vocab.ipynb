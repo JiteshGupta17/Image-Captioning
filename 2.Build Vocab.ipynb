{
 "cells": [
  {
   "cell_type": "code",
   "execution_count": 11,
   "metadata": {},
   "outputs": [],
   "source": [
    "import collections"
   ]
  },
  {
   "cell_type": "code",
   "execution_count": 12,
   "metadata": {},
   "outputs": [],
   "source": [
    "def build_vocab(image_to_captions,threshold_freq):\n",
    "    \n",
    "    ## list of all words with each and every occurance\n",
    "    all_words = []\n",
    "    \n",
    "    for image_id in image_to_captions.keys():\n",
    "        for caption in image_to_captions[image_id]:\n",
    "            word_list = caption.split(' ')\n",
    "            \n",
    "            for word in word_list:\n",
    "                all_words.append(word)\n",
    "                \n",
    "    counter = collections.Counter(all_words)\n",
    "    freq_map = dict(counter) ## map word with frequency\n",
    "    \n",
    "    vocab = []\n",
    "    for word in freq_map.keys():\n",
    "        if freq_map[word] > threshold_freq:\n",
    "            vocab.append(word)\n",
    "            \n",
    "    return vocab"
   ]
  },
  {
   "cell_type": "code",
   "execution_count": 13,
   "metadata": {},
   "outputs": [],
   "source": [
    "path = \"./Helper/captions.txt\"\n",
    "image_to_captions = None\n",
    "with open(path) as f:\n",
    "    image_to_captions = f.read()\n"
   ]
  },
  {
   "cell_type": "code",
   "execution_count": 14,
   "metadata": {},
   "outputs": [
    {
     "name": "stdout",
     "output_type": "stream",
     "text": [
      "<class 'str'>\n"
     ]
    }
   ],
   "source": [
    "print(type(image_to_captions))"
   ]
  },
  {
   "cell_type": "code",
   "execution_count": 15,
   "metadata": {},
   "outputs": [
    {
     "name": "stdout",
     "output_type": "stream",
     "text": [
      "<class 'dict'>\n"
     ]
    }
   ],
   "source": [
    "image_to_captions = eval(image_to_captions)\n",
    "print(type(image_to_captions))"
   ]
  },
  {
   "cell_type": "code",
   "execution_count": 17,
   "metadata": {},
   "outputs": [
    {
     "name": "stdout",
     "output_type": "stream",
     "text": [
      "Vocab Size : 1851\n"
     ]
    }
   ],
   "source": [
    "## using threshold freq to attain the commonly used words and reducing vocab size\n",
    "vocab = build_vocab(image_to_captions,10)\n",
    "print(\"Vocab Size :\", len(vocab))"
   ]
  },
  {
   "cell_type": "code",
   "execution_count": 18,
   "metadata": {},
   "outputs": [],
   "source": [
    "with open(\"./Helper/vocabulary.txt\",'w') as f:\n",
    "    f.write(str(vocab))"
   ]
  },
  {
   "cell_type": "code",
   "execution_count": null,
   "metadata": {},
   "outputs": [],
   "source": []
  }
 ],
 "metadata": {
  "kernelspec": {
   "display_name": "Python 3",
   "language": "python",
   "name": "python3"
  },
  "language_info": {
   "codemirror_mode": {
    "name": "ipython",
    "version": 3
   },
   "file_extension": ".py",
   "mimetype": "text/x-python",
   "name": "python",
   "nbconvert_exporter": "python",
   "pygments_lexer": "ipython3",
   "version": "3.7.6"
  }
 },
 "nbformat": 4,
 "nbformat_minor": 4
}
