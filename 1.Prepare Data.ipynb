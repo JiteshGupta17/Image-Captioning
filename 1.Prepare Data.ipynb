{
 "cells": [
  {
   "cell_type": "code",
   "execution_count": 10,
   "metadata": {},
   "outputs": [],
   "source": [
    "def read_captions(path):\n",
    "    with open(path) as f:\n",
    "        captions = f.read()\n",
    "    \n",
    "    captions = captions.split('\\n') ## split each caption\n",
    "    return captions"
   ]
  },
  {
   "cell_type": "code",
   "execution_count": 11,
   "metadata": {},
   "outputs": [],
   "source": [
    "def create_mapping(captions):\n",
    "    img_to_captions = {}\n",
    "    \n",
    "    for x in captions :\n",
    "        first,second = x.split('\\t')\n",
    "        img_id = first.split('.')[0] ## first part of the current split is id\n",
    "        \n",
    "        if img_to_captions.get(img_id) == None:\n",
    "            img_to_captions[img_id] = [] ## empty list\n",
    "            \n",
    "        img_to_captions[img_id].append(second)\n",
    "    return img_to_captions"
   ]
  },
  {
   "cell_type": "code",
   "execution_count": 12,
   "metadata": {},
   "outputs": [],
   "source": [
    "def clean_data(img_to_captions):\n",
    "    \n",
    "    for img_id,caption_list in img_to_captions.items():\n",
    "        for i in range(len(caption_list)):\n",
    "            \n",
    "            caption_list[i] = caption_list[i].lower()\n",
    "            caption_list[i] = re.sub(\"[^a-z]+\",\" \",caption_list[i])\n",
    "    \n",
    "    return image_to_captions"
   ]
  },
  {
   "cell_type": "code",
   "execution_count": 13,
   "metadata": {},
   "outputs": [
    {
     "name": "stdout",
     "output_type": "stream",
     "text": [
      "40460\n"
     ]
    }
   ],
   "source": [
    "path = \"./Dataset/Flickr8k_text/Flickr8k.token.txt\"\n",
    "captions = read_captions(path)[0:-1] ## last line empty so exclude\n",
    "\n",
    "print(len(captions))"
   ]
  },
  {
   "cell_type": "code",
   "execution_count": 14,
   "metadata": {},
   "outputs": [],
   "source": [
    "image_to_captions = create_mapping(captions)\n",
    "## print(image_to_captions)"
   ]
  },
  {
   "cell_type": "code",
   "execution_count": 16,
   "metadata": {},
   "outputs": [],
   "source": [
    "import re\n",
    "image_to_captions = clean_data(image_to_captions)"
   ]
  },
  {
   "cell_type": "code",
   "execution_count": 17,
   "metadata": {},
   "outputs": [],
   "source": [
    "with open('./Helper/captions.txt', 'w') as f:\n",
    "    f.write(str(image_to_captions))"
   ]
  },
  {
   "cell_type": "code",
   "execution_count": null,
   "metadata": {},
   "outputs": [],
   "source": []
  }
 ],
 "metadata": {
  "kernelspec": {
   "display_name": "Python 3",
   "language": "python",
   "name": "python3"
  },
  "language_info": {
   "codemirror_mode": {
    "name": "ipython",
    "version": 3
   },
   "file_extension": ".py",
   "mimetype": "text/x-python",
   "name": "python",
   "nbconvert_exporter": "python",
   "pygments_lexer": "ipython3",
   "version": "3.7.6"
  }
 },
 "nbformat": 4,
 "nbformat_minor": 4
}
